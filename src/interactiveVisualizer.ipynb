{
 "cells": [
  {
   "cell_type": "code",
   "execution_count": null,
   "id": "dc6f75bd",
   "metadata": {},
   "outputs": [],
   "source": [
    "from process_csv import process_csv\n",
    "from geoVisualizer import geoVisualizer\n",
    "from multiGeoVisualizer import multiGeoVisualizer\n",
    "\n",
    "import folium\n",
    "import geopandas\n",
    "from itertools import cycle"
   ]
  },
  {
   "cell_type": "code",
   "execution_count": null,
   "id": "a8db6bdd",
   "metadata": {},
   "outputs": [],
   "source": [
    "myGeo = multiGeoVisualizer(\"European free-tailed bats\", process_csv().process(\"../data/3D flights of European free-tailed bats.csv\"))"
   ]
  },
  {
   "cell_type": "markdown",
   "id": "12c8a810",
   "metadata": {},
   "source": [
    "Viewing tips:\n",
    "- Zoom into the area and toggle the different tracks using the layers control in the top right corner (layers icon).\n",
    "- Country demographic information as an overlay can be toggled as well."
   ]
  },
  {
   "cell_type": "code",
   "execution_count": null,
   "id": "4fd0abaa",
   "metadata": {},
   "outputs": [],
   "source": [
    "world = geopandas.read_file(geopandas.datasets.get_path('naturalearth_lowres'))\n",
    "myworldmap = world.explore(scheme=\"naturalbreaks\", legend=True, name=\"countries demographic info\", show=False)\n",
    "\n",
    "# Colors for plotting\n",
    "colors = cycle(['red', 'green', 'blue', 'purple', 'orange', 'turquoise', 'gray'])\n",
    "i = 0\n",
    "\n",
    "for geoVis in myGeo.geoVisList:\n",
    "    legendLabel = \"{name} track {number}: Total distance {total:.1f} km, net distance {net:.1f} km\"\n",
    "    c = next(colors)\n",
    "    geoVis.geoDataFrame.explore(m=myworldmap, style_kwds=dict(color=c, fillcolor=c, opacity=0.6, fillopacity=0.6),\n",
    "                                name=legendLabel.format(name = myGeo.animalName,\n",
    "                                                        number = i,\n",
    "                                                        total = geoVis.totalDistance,\n",
    "                                                        net = geoVis.netDistance))\n",
    "    i += 1\n",
    "\n",
    "folium.TileLayer('Stamen Toner', control=True).add_to(myworldmap)\n",
    "folium.LayerControl().add_to(myworldmap)\n",
    "\n",
    "\n",
    "myworldmap"
   ]
  },
  {
   "cell_type": "code",
   "execution_count": null,
   "id": "10ec2dcf",
   "metadata": {},
   "outputs": [],
   "source": []
  }
 ],
 "metadata": {
  "kernelspec": {
   "display_name": "Python 3 (ipykernel)",
   "language": "python",
   "name": "python3"
  },
  "language_info": {
   "codemirror_mode": {
    "name": "ipython",
    "version": 3
   },
   "file_extension": ".py",
   "mimetype": "text/x-python",
   "name": "python",
   "nbconvert_exporter": "python",
   "pygments_lexer": "ipython3",
   "version": "3.10.8"
  }
 },
 "nbformat": 4,
 "nbformat_minor": 5
}
